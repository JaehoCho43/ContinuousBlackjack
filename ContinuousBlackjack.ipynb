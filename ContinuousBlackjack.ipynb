{
 "cells": [
  {
   "cell_type": "markdown",
   "metadata": {},
   "source": [
    "# Continuous Blackjack"
   ]
  },
  {
   "cell_type": "markdown",
   "metadata": {},
   "source": [
    "In this notebook, the continuous blackjack game, which was introduced in *G-Research Virtual Quant Finance Algorithmic Challenge (Japan, Online)* will be discussed. This is a partial summary of  [Mu Zhao's note](https://arxiv.org/abs/2011.10315) who completed the math Ph.D. in Stony Brook University with me and attended this challenge together as a team. I wrote this note for myself to achieve the concrete understanding on this problem with the practice on programming."
   ]
  },
  {
   "cell_type": "markdown",
   "metadata": {},
   "source": [
    "The problem is described as follows. Let $\\{P_1,\\cdots,P_n\\}$ be players in the game. Then we will repeat the following game for $N$ times.\n",
    "1. First, we choose each player's turn using a bijection $\\sigma : \\{1,\\cdots,n\\} \\to \\{1,\\cdots,n\\}$. Then the game proceeds with the order of $(P_{\\sigma(1)},\\cdots,P_{\\sigma(n)})$.\n",
    "2. In each player's turn, the player will receive the random number that is uniformly distributed in $[0,1]$. You can receive cards as many as you want, but if you bust (i.e. if the sum of your hands is bigger than 1), then you will automatically lose the game. Your goal is to be a player with the maximum hand that is not busted after all players finished their turn.\n",
    "3. In your turn, you can see all of your previous players' hands. \n",
    "4. For each game, the winner will receive a point. \n",
    "5. After $N$ games are finished, we compute the total score and determine the final winner of this game."
   ]
  },
  {
   "cell_type": "markdown",
   "metadata": {},
   "source": [
    "**Question:** What is the best way to play this game?"
   ]
  },
  {
   "cell_type": "markdown",
   "metadata": {},
   "source": [
    "As a player, there are some *trivial* facts for this game."
   ]
  },
  {
   "cell_type": "markdown",
   "metadata": {},
   "source": [
    "1. Since only the first place will get rewarded, each player will keep drawing more cards as long as their hand is smaller than any of previous player's hand. \n",
    "2. Each player needs to play more aggressively if there are more players waiting as they have the higher possibility to be beat by other players.\n",
    "3. There will be always a winner."
   ]
  },
  {
   "cell_type": "markdown",
   "metadata": {},
   "source": [
    "## Simple Case - 2 Players"
   ]
  },
  {
   "cell_type": "markdown",
   "metadata": {},
   "source": [
    "As usual, we start approaching this problem in a simple case. So assume that there are only 2 players. In the 2nd player's point of view, the strategy is fixed as follows.\n",
    "\n",
    "* If the 1st player already busted, then the 2nd player always wins.\n",
    "* If this is not the case, then the 2nd player has no choice except drawing more cards so that one can hopefully achieve hands greater than the 1st player's. \n",
    "\n",
    "Therefore, the 2nd player's strategy is deterministic. Now, let's consider the 1st player's point of view. We can first try to use *a brute force*. In other words, we repeat the game with different thresholds and choose the maximizer of winning probability. Here, we used Cython to increase the performance of the code."
   ]
  },
  {
   "cell_type": "code",
   "execution_count": 1,
   "metadata": {},
   "outputs": [],
   "source": [
    "import numpy as np\n",
    "import pandas as pd\n",
    "import seaborn as sns\n",
    "import matplotlib.pyplot as plt\n",
    "import scipy"
   ]
  },
  {
   "cell_type": "code",
   "execution_count": 2,
   "metadata": {},
   "outputs": [],
   "source": [
    "# Initialize the random number generator\n",
    "\n",
    "np.random.seed(1)"
   ]
  },
  {
   "cell_type": "code",
   "execution_count": 3,
   "metadata": {},
   "outputs": [],
   "source": [
    "%load_ext Cython"
   ]
  },
  {
   "cell_type": "code",
   "execution_count": 4,
   "metadata": {},
   "outputs": [],
   "source": [
    "%%cython\n",
    "# distutils: define_macros=NPY_NO_DEPRECATED_API=NPY_1_7_API_VERSION\n",
    "\n",
    "import numpy as np\n",
    "cimport numpy as np\n",
    "\n",
    "cdef double game(const double threshold, const long rounds):\n",
    "    cdef double hand0, hand1, T, winning = 0\n",
    "    for _ in range(rounds):\n",
    "        hand0 = 0\n",
    "        while hand0 < threshold:\n",
    "            hand0 += np.random.random()\n",
    "        if hand0 > 1:\n",
    "            continue\n",
    "        hand1 = 0\n",
    "        while hand1 < hand0:\n",
    "            hand1 += np.random.random()\n",
    "        if hand1 > 1:\n",
    "            winning += 1\n",
    "            continue\n",
    "    return winning / rounds\n",
    "\n",
    "cpdef (double, double) optimalThreshold_simple(const long num_games, const long num_mesh):\n",
    "    cdef double res = 0, p = 0, p_sim = 0, x\n",
    "    cdef long i\n",
    "    for i in range(num_mesh):\n",
    "        x = (1.0*i)/num_mesh\n",
    "        p_sim = game(x, num_games)\n",
    "        if p_sim > p:\n",
    "            res = x\n",
    "            p = p_sim\n",
    "    return res, p"
   ]
  },
  {
   "cell_type": "code",
   "execution_count": 5,
   "metadata": {},
   "outputs": [
    {
     "name": "stdout",
     "output_type": "stream",
     "text": [
      "optimal threshold = 0.5841584158415841 with the winning probability 0.425155\n"
     ]
    }
   ],
   "source": [
    "num_games = 200000\n",
    "num_mesh = 101\n",
    "res, p = optimalThreshold_simple(num_games, num_mesh)\n",
    "print(f'optimal threshold = {res} with the winning probability {p}')"
   ]
  },
  {
   "cell_type": "markdown",
   "metadata": {},
   "source": [
    "As we can see, choosing a threshold as 0.584158.. will maximize the winning probability of the 1st player. In short, the 1st player needs to keep drawing as long as the total sum is smaller than the threshold. </br>\n",
    "But this argument is hard to be generalized for $n$-players case. So let's take a look at the problem in a different viewpoint."
   ]
  },
  {
   "cell_type": "markdown",
   "metadata": {},
   "source": [
    "## Preparation"
   ]
  },
  {
   "cell_type": "markdown",
   "metadata": {},
   "source": [
    "Let $$X_i \\sim U[0,1]$$"
   ]
  },
  {
   "cell_type": "markdown",
   "metadata": {},
   "source": [
    "be i.i.d. random variables and $S_n = \\sum_{i = 1}^n X_i$. If $\\tau(t)$ is the stopping time for $S_n$ so that $S_n \\ge t$. In other words,\n",
    "$$ \\tau(t) = \\inf\\{n~|~S_n \\ge t\\}$$\n",
    "Then we want to compute\n",
    "$$F(x,y) = \\mathbb{P}[S_{\\tau(x)} \\le y]$$\n",
    "Now, we can see that\n",
    "$$\\begin{align*} \n",
    "F(x,y) = \\mathbb{P}[S_{\\tau(x)} \\le y] &= \\mathbb{P}[S_{\\tau(x)} \\le y, \\tau(x) = 1]+\\mathbb{P}[S_{\\tau(x)} \\le y, \\tau(x) > 1]\\\\\n",
    "&=\\mathbb{P}[x\\le X_1 \\le y] + \\int_{0}^x\\mathbb{P}[S_{\\tau(x)}-t \\le y-t~|~S_1=t]dt\\\\\n",
    "&=y-x + \\int_0^xF(x-t,y-t)dt\n",
    "\\end{align*}$$\n",
    "Also, we have a boundary condition $F(0,y) = y$. (Note that we only consider the case when $0 \\le x \\le y \\le 1$)"
   ]
  },
  {
   "cell_type": "markdown",
   "metadata": {},
   "source": [
    "First, we have the uniqueness of the solution. If $F_1, F_2$ are solutions and we set $\\xi = F_1 - F_2$, one can see that $\\xi$ is the solution for\n",
    "$$\\xi(x,y) = \\int_0^x \\xi(x-t,y-t)dt$$\n",
    "with $\\xi(0,y) = 0$. "
   ]
  },
  {
   "cell_type": "markdown",
   "metadata": {},
   "source": [
    "If $\\xi$ is not trivial, then we can choose $$0\\le x_0 \\le y_0 \\le 1$$ such that $$0<\\xi(x_0,y_0) = \\sup_{0\\le t \\le x_0} \\xi(x_0-t,y_0-t)$$"
   ]
  },
  {
   "cell_type": "markdown",
   "metadata": {},
   "source": [
    "But then we have the following from the equation."
   ]
  },
  {
   "cell_type": "markdown",
   "metadata": {},
   "source": [
    "$$0 < \\xi(x_0,y_0) \\le x_0 \\sup_{0\\le t \\le x_0} \\xi(x_0-t,y_0-t)$$"
   ]
  },
  {
   "cell_type": "markdown",
   "metadata": {},
   "source": [
    "Since $0\\le x_0 \\le 1$, it implies that $x_0 = 1$. But this is a contradiction since $\\xi(1,y) = 0$. "
   ]
  },
  {
   "cell_type": "markdown",
   "metadata": {},
   "source": [
    "Now, we only need to find the solution for \n",
    "$$F(x,y) = y-x + \\int_0^xF(x-t,y-t)dt$$\n",
    "with $F(0,y) = y$. By setting \n",
    "$$G(x,y) := \\frac{F(x,y)}{y-x}$$\n",
    "we have $$G(x,y) = 1 + \\int_0^x G(x-t,y-t)dt$$ with $G(0,y) = 1$. If we further assume that $G(x,y)$ is independent to $y$, then the equation becomes\n",
    "$$G(x) = 1 + \\int_0^xG(x-t)dt = 1 + \\int_0^xG(t)dt$$ with $G(0) = 1$. As a result, we can get the solution as\n",
    "$$F(x,y) = (y-x)G(x) = (y-x)e^x$$"
   ]
  },
  {
   "cell_type": "markdown",
   "metadata": {},
   "source": [
    "Now, we can apply this result for 2-players case. As observed, the 2nd player's strategy is determined so the 1st player wins the game if and only if the 2nd player busts. If the 1st player is playing a game with a threshold $t$, then the winning probability is computed as follows."
   ]
  },
  {
   "cell_type": "markdown",
   "metadata": {},
   "source": [
    "$$\\begin{align*}\n",
    "f(t) = \\mathbb{P}[\\text{the 1st player wins with threshold }t] &= \\mathbb{P}[\\text{the 1st player did not bust and the 2nd player busts}]\\\\ &= \\int_t^1 \\mathbb{P}[S_{\\tau(t)} \\in dh]\\mathbb{P}[S_{\\tau(h)} > 1] \\\\ &= \\int_t^1 \\partial_h F(t,h) \\cdot (1-F(h, 1))dh\\\\ &= \\int_t^1 \\partial_h F(t,h) \\cdot (1-F(h, 1))dh \\\\ &= e^t\\int_t^1 (1-(1-h)e^h)dh \\\\ &= e^t\\left(1-t - e + (2-t)e^t\\right)\\end{align*}$$"
   ]
  },
  {
   "cell_type": "markdown",
   "metadata": {},
   "source": [
    "Now we will choose $t$ that maximizes $f(t)$ by solving"
   ]
  },
  {
   "cell_type": "markdown",
   "metadata": {},
   "source": [
    "$$0 = \\partial_tf(t) = e^t(1-e-t+(2-t)e^t -1 +(1-t)e^t)$$"
   ]
  },
  {
   "cell_type": "markdown",
   "metadata": {},
   "source": [
    "which is equivalent to $$e + t = (3-2t)e^t$$"
   ]
  },
  {
   "cell_type": "markdown",
   "metadata": {},
   "source": [
    "This equation can be solved numerically as follows. Here, the secant method is used. Actually, it is better to use other packages like Scipy, but it is implemented here as a practice. (But again, *do not reinvent the wheel)*."
   ]
  },
  {
   "cell_type": "code",
   "execution_count": 6,
   "metadata": {},
   "outputs": [],
   "source": [
    "%%cython\n",
    "\n",
    "cpdef double solve_secant(f, long num_iter = 100000, double gap_size = 1e-5, double error_bound = 1e-10, int verbose = 0):\n",
    "    cdef long i\n",
    "    cdef double sec, p = 1\n",
    "    for i in range(num_iter):\n",
    "        if abs(f(p)) < error_bound:\n",
    "            if verbose > 0:\n",
    "                print(f'Iteration terminated in {i} steps')\n",
    "            break\n",
    "        sec = (f(p) - f(p - gap_size))/gap_size\n",
    "        p -= f(p)/sec\n",
    "    return p"
   ]
  },
  {
   "cell_type": "code",
   "execution_count": 7,
   "metadata": {},
   "outputs": [],
   "source": [
    "f = lambda t : np.e + t - (3-2*t)*np.exp(t)\n",
    "P = lambda t : np.exp(t) * (1-t-np.e + (2-t)*np.exp(t))"
   ]
  },
  {
   "cell_type": "code",
   "execution_count": 8,
   "metadata": {},
   "outputs": [
    {
     "name": "stdout",
     "output_type": "stream",
     "text": [
      "Iteration terminated in 5 steps\n",
      "The winning probability is optimized by the threshold 0.5705565282653253 as 0.424985742633163\n"
     ]
    }
   ],
   "source": [
    "T = solve_secant(f, verbose = 1)\n",
    "print(f'The winning probability is optimized by the threshold {T} as {P(T)}')"
   ]
  },
  {
   "cell_type": "markdown",
   "metadata": {},
   "source": [
    "As we can see, the threshold 0.57055.. maximizes the probability of winning. This result is very close to what we achieved previously."
   ]
  },
  {
   "cell_type": "markdown",
   "metadata": {},
   "source": [
    "## General Case - Equilibrium"
   ]
  },
  {
   "cell_type": "markdown",
   "metadata": {},
   "source": [
    "Previous argument gives the way to handle the general case. So assume that there are $n$-players $\\{P_1,\\cdots,P_n\\}$. From the previous argument, we know the strategies for players $P_{n-1}$ and $P_n$. Using this information, player $P_{n-2}$ can compute the optimal threshold. And this process will continue to $P_1$. As a result, we can compute the optimal threshold for all $\\{P_k\\}_{1\\le k \\le n}$. Let $T_k$ be the optimal threshold for player $P_{n-k}$. From the previous argument, we know that $T_1 \\approx 0.5705565$ and $T_0 = 0$. After then, we can derive the following."
   ]
  },
  {
   "cell_type": "markdown",
   "metadata": {},
   "source": [
    "$$\\begin{align*}\n",
    "f_k(t) = \\mathbb{P}[\\text{The player }P_{n-k}\\text{ wins with threshold }t] &= \\mathbb{P}[\\text{the player }P_{n-k}\\text{ did not bust and all other players }\\{P_i\\}_{i >n-k}\\text{ bust}]\\\\ &= \\int_t^1 \\mathbb{P}[S_{\\tau(t)} \\in dh]\\prod_{i < k}\\mathbb{P}[S_{\\tau(\\max(T_i,h))} > 1]\\\\ &= e^t\\int_t^1 \\prod_{i < k}(1-F(\\max(T_i,h), 1))dh\\end{align*}$$"
   ]
  },
  {
   "cell_type": "markdown",
   "metadata": {},
   "source": [
    "Also, we know that $T_i$ is increasing in $i$ due to the fact that *we need to play more aggressively when there are more remaining players*. As a result, we only have to consider the case when $t \\ge T_{k-1} \\ge \\cdots \\ge T_0 = 0$. It simplifies the equation as"
   ]
  },
  {
   "cell_type": "markdown",
   "metadata": {},
   "source": [
    "$$f_k(t) = e^t\\int_t^1 (1-F(h, 1))^kdh = e^t\\int_t^1 (1-(1-h)e^h)^kdh$$"
   ]
  },
  {
   "cell_type": "markdown",
   "metadata": {},
   "source": [
    "and the maximizer is obtained when $\\partial_tf_k = 0$, which is equivalent to $$\\int_t^1 (1-(1-h)e^h)^kdh = (1-(1-t)e^t)^k$$"
   ]
  },
  {
   "cell_type": "markdown",
   "metadata": {},
   "source": [
    "Therefore, we need to compute $t$ satisfying the equation above."
   ]
  },
  {
   "cell_type": "code",
   "execution_count": 9,
   "metadata": {},
   "outputs": [],
   "source": [
    "def F(k):\n",
    "    f = lambda t : (1-(1-t)*np.exp(t))**k\n",
    "    return lambda t : scipy.integrate.quad(f, t, 1)[0] - f(t)\n",
    "\n",
    "def generate_thresholds(m):\n",
    "    res = np.zeros(m)\n",
    "    for i in range(m-2,-1,-1):\n",
    "        res[i] = scipy.optimize.fsolve(F(m-1-i), 1)[0]\n",
    "    return res"
   ]
  },
  {
   "cell_type": "code",
   "execution_count": 10,
   "metadata": {},
   "outputs": [
    {
     "data": {
      "text/plain": [
       "array([0.87300813, 0.86255762, 0.84990029, 0.83419051, 0.81405923,\n",
       "       0.78711137, 0.74867099, 0.68791554, 0.57055653, 0.        ])"
      ]
     },
     "execution_count": 10,
     "metadata": {},
     "output_type": "execute_result"
    }
   ],
   "source": [
    "generate_thresholds(10)"
   ]
  },
  {
   "cell_type": "markdown",
   "metadata": {},
   "source": [
    "## Game Design"
   ]
  },
  {
   "cell_type": "markdown",
   "metadata": {},
   "source": [
    "For the simultation, the game is designed below. More strategies and notes will be added in the future."
   ]
  },
  {
   "cell_type": "code",
   "execution_count": 11,
   "metadata": {},
   "outputs": [],
   "source": [
    "# Game Class\n",
    "\n",
    "DATA_DTYPE = np.dtype([\n",
    "    ('gameTurn', np.int64),\n",
    "    ('hands', np.float64),\n",
    "    ('winning', np.float64),\n",
    "])\n",
    "\n",
    "class Game:\n",
    "    def __init__(self, players, num_games = 300000):\n",
    "        self.players = players\n",
    "        self.num_games = num_games\n",
    "        self.data = np.zeros((num_games,len(self.players)), dtype = DATA_DTYPE)\n",
    "        for P in players:\n",
    "            P.initialize(len(self.players), num_games)\n",
    "        self.threshold_history = np.empty((len(self.players), num_games, len(self.players)), dtype = np.float64)\n",
    "    \n",
    "    def run(self, verbose = True):\n",
    "        for n in range(self.num_games):\n",
    "            data_temp = np.zeros(len(self.players), dtype = DATA_DTYPE)\n",
    "            data_temp['gameTurn'] = np.random.permutation(len(self.players))\n",
    "            mx = 0\n",
    "            for game_order, player_number in enumerate(data_temp['gameTurn']):\n",
    "                hand = 0\n",
    "                player = self.players[player_number]\n",
    "                self.threshold_history[player_number, n] = player.threshold\n",
    "                T = player.get_threshold(game_order, mx)\n",
    "                while hand < T:\n",
    "                    hand += np.random.random()\n",
    "                if hand <= 1:\n",
    "                    mx = max(mx, hand)\n",
    "                data_temp['hands'][player_number] = hand\n",
    "            data_temp['winning'][np.argmax([h if h <= 1 else -1 for h in data_temp['hands']])] = 1\n",
    "            self.data[n] = data_temp\n",
    "            for player_number, P in enumerate(self.players):\n",
    "                P.update(player_number, n, self.data)\n",
    "            if verbose and n%(self.num_games//5) == 0:\n",
    "                print(f'Game {n} is done')"
   ]
  },
  {
   "cell_type": "code",
   "execution_count": 12,
   "metadata": {
    "tags": []
   },
   "outputs": [],
   "source": [
    "# Strategy class\n",
    "\n",
    "# Currently, st_type is one of the following\n",
    "\n",
    "# - Random: Choose a random threshold between input and 1\n",
    "# - Constant: Constant Threshold\n",
    "# - BasicLearning: Experimental (will be modified)\n",
    "# - NE: Nash equilibrium that is previously computed\n",
    "\n",
    "class Strategy:\n",
    "    def __init__(self, st_type, constant = 0.5, sensitivity = 0.01):\n",
    "        self.threshold = np.empty(0, dtype = np.float64)\n",
    "        self.st_type = st_type\n",
    "        self.constant = constant\n",
    "        self.sensitivity = sensitivity\n",
    "        \n",
    "        \n",
    "    def get_threshold(self, turn, mx):\n",
    "        return max(mx, self.threshold[turn])\n",
    "    \n",
    "    \n",
    "    def update(self, player_number, n, D):\n",
    "        if self.st_type == 'Random':\n",
    "            L = len(self.threshold)\n",
    "            self.threshold = (1-self.constant) * np.random.random(L) + self.constant\n",
    "            self.threshold[-1] = 0\n",
    "                \n",
    "        elif self.st_type == 'BasicLearning':\n",
    "            j = D['gameTurn'][n][player_number]\n",
    "            if D['winning'][n,player_number] == 0:\n",
    "                if D['hands'][n][player_number] <= 1:\n",
    "                    self.threshold[j] = self.threshold[j] * np.exp(-self.sensitivity * (D['hands'][n][player_number] - np.max([h for h in D['hands'][n] if h<=1])))     \n",
    "                else:\n",
    "                    self.threshold[j] = self.threshold[j] * np.exp(-self.sensitivity * (D['hands'][n][player_number] - 1))\n",
    "    \n",
    "    \n",
    "    def initialize(self, num_players, num_games):\n",
    "        \n",
    "        if self.st_type == 'Random':\n",
    "            self.threshold = (1-self.constant) * np.random.random(num_players) + self.constant\n",
    "            self.threshold[-1] = 0\n",
    "        \n",
    "        elif self.st_type == 'NE':\n",
    "            self.threshold = generate_thresholds(num_players)\n",
    "                   \n",
    "        else:\n",
    "            self.threshold = np.repeat(self.constant, num_players)\n",
    "            self.threshold[-1] = 0"
   ]
  },
  {
   "cell_type": "code",
   "execution_count": 13,
   "metadata": {},
   "outputs": [],
   "source": [
    "players = np.array([\n",
    "    Strategy('Random', 0.5),\n",
    "    Strategy('Random', 0.5),\n",
    "    Strategy('Random', 0.5),\n",
    "    Strategy('Constant', 0.6),\n",
    "    Strategy('Constant', 0.7),\n",
    "    Strategy('Constant', 0.8),\n",
    "    Strategy('Constant', 0.9),\n",
    "    Strategy('NE'),\n",
    "])"
   ]
  },
  {
   "cell_type": "code",
   "execution_count": 14,
   "metadata": {
    "id": "ZV4GaRIXvZUV"
   },
   "outputs": [
    {
     "name": "stdout",
     "output_type": "stream",
     "text": [
      "Game 0 is done\n",
      "Game 100000 is done\n",
      "Game 200000 is done\n",
      "Game 300000 is done\n",
      "Game 400000 is done\n"
     ]
    }
   ],
   "source": [
    "G = Game(players = players, num_games = 500000)\n",
    "G.run()"
   ]
  },
  {
   "cell_type": "code",
   "execution_count": 15,
   "metadata": {},
   "outputs": [],
   "source": [
    "names = [\n",
    "    'Random1',\n",
    "    'Random2',\n",
    "    'Random3',\n",
    "    'Const0.6',\n",
    "    'Const0.7',\n",
    "    'Const0.8',\n",
    "    'Const0.9',\n",
    "    'NE1',\n",
    "]"
   ]
  },
  {
   "cell_type": "code",
   "execution_count": 16,
   "metadata": {
    "id": "tidfAzyD9YCR"
   },
   "outputs": [
    {
     "data": {
      "text/html": [
       "<div>\n",
       "<style scoped>\n",
       "    .dataframe tbody tr th:only-of-type {\n",
       "        vertical-align: middle;\n",
       "    }\n",
       "\n",
       "    .dataframe tbody tr th {\n",
       "        vertical-align: top;\n",
       "    }\n",
       "\n",
       "    .dataframe thead th {\n",
       "        text-align: right;\n",
       "    }\n",
       "</style>\n",
       "<table border=\"1\" class=\"dataframe\">\n",
       "  <thead>\n",
       "    <tr style=\"text-align: right;\">\n",
       "      <th></th>\n",
       "      <th>0</th>\n",
       "      <th>1</th>\n",
       "      <th>2</th>\n",
       "      <th>3</th>\n",
       "      <th>4</th>\n",
       "      <th>5</th>\n",
       "      <th>6</th>\n",
       "      <th>7</th>\n",
       "    </tr>\n",
       "  </thead>\n",
       "  <tbody>\n",
       "    <tr>\n",
       "      <th>0</th>\n",
       "      <td>1.034884</td>\n",
       "      <td>1.080309</td>\n",
       "      <td>0.949235</td>\n",
       "      <td>1.146149</td>\n",
       "      <td>1.500010</td>\n",
       "      <td>0.836950</td>\n",
       "      <td>1.536033</td>\n",
       "      <td>1.309949</td>\n",
       "    </tr>\n",
       "    <tr>\n",
       "      <th>1</th>\n",
       "      <td>1.334009</td>\n",
       "      <td>1.466558</td>\n",
       "      <td>1.381618</td>\n",
       "      <td>1.121458</td>\n",
       "      <td>0.952018</td>\n",
       "      <td>1.583705</td>\n",
       "      <td>1.113875</td>\n",
       "      <td>1.302705</td>\n",
       "    </tr>\n",
       "    <tr>\n",
       "      <th>2</th>\n",
       "      <td>1.103809</td>\n",
       "      <td>1.225051</td>\n",
       "      <td>0.830525</td>\n",
       "      <td>1.394283</td>\n",
       "      <td>0.982110</td>\n",
       "      <td>1.041436</td>\n",
       "      <td>1.815476</td>\n",
       "      <td>1.612987</td>\n",
       "    </tr>\n",
       "    <tr>\n",
       "      <th>3</th>\n",
       "      <td>1.143901</td>\n",
       "      <td>1.597783</td>\n",
       "      <td>1.689712</td>\n",
       "      <td>1.760135</td>\n",
       "      <td>0.950855</td>\n",
       "      <td>1.001022</td>\n",
       "      <td>1.358155</td>\n",
       "      <td>1.261038</td>\n",
       "    </tr>\n",
       "    <tr>\n",
       "      <th>4</th>\n",
       "      <td>1.072480</td>\n",
       "      <td>0.866617</td>\n",
       "      <td>0.751005</td>\n",
       "      <td>0.817303</td>\n",
       "      <td>1.529509</td>\n",
       "      <td>1.269497</td>\n",
       "      <td>1.034946</td>\n",
       "      <td>1.143511</td>\n",
       "    </tr>\n",
       "    <tr>\n",
       "      <th>...</th>\n",
       "      <td>...</td>\n",
       "      <td>...</td>\n",
       "      <td>...</td>\n",
       "      <td>...</td>\n",
       "      <td>...</td>\n",
       "      <td>...</td>\n",
       "      <td>...</td>\n",
       "      <td>...</td>\n",
       "    </tr>\n",
       "    <tr>\n",
       "      <th>499995</th>\n",
       "      <td>0.958596</td>\n",
       "      <td>0.857035</td>\n",
       "      <td>1.942155</td>\n",
       "      <td>1.572873</td>\n",
       "      <td>0.997355</td>\n",
       "      <td>1.126780</td>\n",
       "      <td>1.168935</td>\n",
       "      <td>1.253623</td>\n",
       "    </tr>\n",
       "    <tr>\n",
       "      <th>499996</th>\n",
       "      <td>0.805494</td>\n",
       "      <td>1.174364</td>\n",
       "      <td>1.322644</td>\n",
       "      <td>0.910902</td>\n",
       "      <td>1.521845</td>\n",
       "      <td>1.802188</td>\n",
       "      <td>1.140695</td>\n",
       "      <td>1.479702</td>\n",
       "    </tr>\n",
       "    <tr>\n",
       "      <th>499997</th>\n",
       "      <td>1.360235</td>\n",
       "      <td>1.182217</td>\n",
       "      <td>1.328125</td>\n",
       "      <td>0.985285</td>\n",
       "      <td>1.810115</td>\n",
       "      <td>1.209468</td>\n",
       "      <td>1.555874</td>\n",
       "      <td>1.380215</td>\n",
       "    </tr>\n",
       "    <tr>\n",
       "      <th>499998</th>\n",
       "      <td>0.968679</td>\n",
       "      <td>0.956667</td>\n",
       "      <td>1.589584</td>\n",
       "      <td>1.054152</td>\n",
       "      <td>1.400923</td>\n",
       "      <td>1.023658</td>\n",
       "      <td>1.512168</td>\n",
       "      <td>1.073583</td>\n",
       "    </tr>\n",
       "    <tr>\n",
       "      <th>499999</th>\n",
       "      <td>1.116205</td>\n",
       "      <td>1.188046</td>\n",
       "      <td>1.257424</td>\n",
       "      <td>1.525383</td>\n",
       "      <td>1.279862</td>\n",
       "      <td>1.066105</td>\n",
       "      <td>1.194371</td>\n",
       "      <td>0.917134</td>\n",
       "    </tr>\n",
       "  </tbody>\n",
       "</table>\n",
       "<p>500000 rows × 8 columns</p>\n",
       "</div>"
      ],
      "text/plain": [
       "               0         1         2         3         4         5         6  \\\n",
       "0       1.034884  1.080309  0.949235  1.146149  1.500010  0.836950  1.536033   \n",
       "1       1.334009  1.466558  1.381618  1.121458  0.952018  1.583705  1.113875   \n",
       "2       1.103809  1.225051  0.830525  1.394283  0.982110  1.041436  1.815476   \n",
       "3       1.143901  1.597783  1.689712  1.760135  0.950855  1.001022  1.358155   \n",
       "4       1.072480  0.866617  0.751005  0.817303  1.529509  1.269497  1.034946   \n",
       "...          ...       ...       ...       ...       ...       ...       ...   \n",
       "499995  0.958596  0.857035  1.942155  1.572873  0.997355  1.126780  1.168935   \n",
       "499996  0.805494  1.174364  1.322644  0.910902  1.521845  1.802188  1.140695   \n",
       "499997  1.360235  1.182217  1.328125  0.985285  1.810115  1.209468  1.555874   \n",
       "499998  0.968679  0.956667  1.589584  1.054152  1.400923  1.023658  1.512168   \n",
       "499999  1.116205  1.188046  1.257424  1.525383  1.279862  1.066105  1.194371   \n",
       "\n",
       "               7  \n",
       "0       1.309949  \n",
       "1       1.302705  \n",
       "2       1.612987  \n",
       "3       1.261038  \n",
       "4       1.143511  \n",
       "...          ...  \n",
       "499995  1.253623  \n",
       "499996  1.479702  \n",
       "499997  1.380215  \n",
       "499998  1.073583  \n",
       "499999  0.917134  \n",
       "\n",
       "[500000 rows x 8 columns]"
      ]
     },
     "execution_count": 16,
     "metadata": {},
     "output_type": "execute_result"
    }
   ],
   "source": [
    "pd.DataFrame(np.array(G.data['hands']))"
   ]
  },
  {
   "cell_type": "code",
   "execution_count": 17,
   "metadata": {
    "id": "OW21AZIv9e6y"
   },
   "outputs": [
    {
     "data": {
      "text/html": [
       "<div>\n",
       "<style scoped>\n",
       "    .dataframe tbody tr th:only-of-type {\n",
       "        vertical-align: middle;\n",
       "    }\n",
       "\n",
       "    .dataframe tbody tr th {\n",
       "        vertical-align: top;\n",
       "    }\n",
       "\n",
       "    .dataframe thead th {\n",
       "        text-align: right;\n",
       "    }\n",
       "</style>\n",
       "<table border=\"1\" class=\"dataframe\">\n",
       "  <thead>\n",
       "    <tr style=\"text-align: right;\">\n",
       "      <th></th>\n",
       "      <th>Random1</th>\n",
       "      <th>Random2</th>\n",
       "      <th>Random3</th>\n",
       "      <th>Const0.6</th>\n",
       "      <th>Const0.7</th>\n",
       "      <th>Const0.8</th>\n",
       "      <th>Const0.9</th>\n",
       "      <th>NE1</th>\n",
       "    </tr>\n",
       "  </thead>\n",
       "  <tbody>\n",
       "    <tr>\n",
       "      <th>0</th>\n",
       "      <td>0.0</td>\n",
       "      <td>0.0</td>\n",
       "      <td>1.0</td>\n",
       "      <td>0.0</td>\n",
       "      <td>0.0</td>\n",
       "      <td>0.0</td>\n",
       "      <td>0.0</td>\n",
       "      <td>0.0</td>\n",
       "    </tr>\n",
       "    <tr>\n",
       "      <th>1</th>\n",
       "      <td>0.0</td>\n",
       "      <td>0.0</td>\n",
       "      <td>1.0</td>\n",
       "      <td>0.0</td>\n",
       "      <td>1.0</td>\n",
       "      <td>0.0</td>\n",
       "      <td>0.0</td>\n",
       "      <td>0.0</td>\n",
       "    </tr>\n",
       "    <tr>\n",
       "      <th>2</th>\n",
       "      <td>0.0</td>\n",
       "      <td>0.0</td>\n",
       "      <td>1.0</td>\n",
       "      <td>0.0</td>\n",
       "      <td>2.0</td>\n",
       "      <td>0.0</td>\n",
       "      <td>0.0</td>\n",
       "      <td>0.0</td>\n",
       "    </tr>\n",
       "    <tr>\n",
       "      <th>3</th>\n",
       "      <td>0.0</td>\n",
       "      <td>0.0</td>\n",
       "      <td>1.0</td>\n",
       "      <td>0.0</td>\n",
       "      <td>3.0</td>\n",
       "      <td>0.0</td>\n",
       "      <td>0.0</td>\n",
       "      <td>0.0</td>\n",
       "    </tr>\n",
       "    <tr>\n",
       "      <th>4</th>\n",
       "      <td>0.0</td>\n",
       "      <td>1.0</td>\n",
       "      <td>1.0</td>\n",
       "      <td>0.0</td>\n",
       "      <td>3.0</td>\n",
       "      <td>0.0</td>\n",
       "      <td>0.0</td>\n",
       "      <td>0.0</td>\n",
       "    </tr>\n",
       "    <tr>\n",
       "      <th>...</th>\n",
       "      <td>...</td>\n",
       "      <td>...</td>\n",
       "      <td>...</td>\n",
       "      <td>...</td>\n",
       "      <td>...</td>\n",
       "      <td>...</td>\n",
       "      <td>...</td>\n",
       "      <td>...</td>\n",
       "    </tr>\n",
       "    <tr>\n",
       "      <th>499995</th>\n",
       "      <td>59684.0</td>\n",
       "      <td>59070.0</td>\n",
       "      <td>59434.0</td>\n",
       "      <td>64021.0</td>\n",
       "      <td>65965.0</td>\n",
       "      <td>65599.0</td>\n",
       "      <td>59849.0</td>\n",
       "      <td>66374.0</td>\n",
       "    </tr>\n",
       "    <tr>\n",
       "      <th>499996</th>\n",
       "      <td>59684.0</td>\n",
       "      <td>59070.0</td>\n",
       "      <td>59434.0</td>\n",
       "      <td>64022.0</td>\n",
       "      <td>65965.0</td>\n",
       "      <td>65599.0</td>\n",
       "      <td>59849.0</td>\n",
       "      <td>66374.0</td>\n",
       "    </tr>\n",
       "    <tr>\n",
       "      <th>499997</th>\n",
       "      <td>59684.0</td>\n",
       "      <td>59070.0</td>\n",
       "      <td>59434.0</td>\n",
       "      <td>64023.0</td>\n",
       "      <td>65965.0</td>\n",
       "      <td>65599.0</td>\n",
       "      <td>59849.0</td>\n",
       "      <td>66374.0</td>\n",
       "    </tr>\n",
       "    <tr>\n",
       "      <th>499998</th>\n",
       "      <td>59685.0</td>\n",
       "      <td>59070.0</td>\n",
       "      <td>59434.0</td>\n",
       "      <td>64023.0</td>\n",
       "      <td>65965.0</td>\n",
       "      <td>65599.0</td>\n",
       "      <td>59849.0</td>\n",
       "      <td>66374.0</td>\n",
       "    </tr>\n",
       "    <tr>\n",
       "      <th>499999</th>\n",
       "      <td>59685.0</td>\n",
       "      <td>59070.0</td>\n",
       "      <td>59434.0</td>\n",
       "      <td>64023.0</td>\n",
       "      <td>65965.0</td>\n",
       "      <td>65599.0</td>\n",
       "      <td>59849.0</td>\n",
       "      <td>66375.0</td>\n",
       "    </tr>\n",
       "  </tbody>\n",
       "</table>\n",
       "<p>500000 rows × 8 columns</p>\n",
       "</div>"
      ],
      "text/plain": [
       "        Random1  Random2  Random3  Const0.6  Const0.7  Const0.8  Const0.9  \\\n",
       "0           0.0      0.0      1.0       0.0       0.0       0.0       0.0   \n",
       "1           0.0      0.0      1.0       0.0       1.0       0.0       0.0   \n",
       "2           0.0      0.0      1.0       0.0       2.0       0.0       0.0   \n",
       "3           0.0      0.0      1.0       0.0       3.0       0.0       0.0   \n",
       "4           0.0      1.0      1.0       0.0       3.0       0.0       0.0   \n",
       "...         ...      ...      ...       ...       ...       ...       ...   \n",
       "499995  59684.0  59070.0  59434.0   64021.0   65965.0   65599.0   59849.0   \n",
       "499996  59684.0  59070.0  59434.0   64022.0   65965.0   65599.0   59849.0   \n",
       "499997  59684.0  59070.0  59434.0   64023.0   65965.0   65599.0   59849.0   \n",
       "499998  59685.0  59070.0  59434.0   64023.0   65965.0   65599.0   59849.0   \n",
       "499999  59685.0  59070.0  59434.0   64023.0   65965.0   65599.0   59849.0   \n",
       "\n",
       "            NE1  \n",
       "0           0.0  \n",
       "1           0.0  \n",
       "2           0.0  \n",
       "3           0.0  \n",
       "4           0.0  \n",
       "...         ...  \n",
       "499995  66374.0  \n",
       "499996  66374.0  \n",
       "499997  66374.0  \n",
       "499998  66374.0  \n",
       "499999  66375.0  \n",
       "\n",
       "[500000 rows x 8 columns]"
      ]
     },
     "execution_count": 17,
     "metadata": {},
     "output_type": "execute_result"
    },
    {
     "data": {
      "image/png": "[encoded data removed]",
      "text/plain": [
       "<Figure size 864x432 with 1 Axes>"
      ]
     },
     "metadata": {
      "needs_background": "light"
     },
     "output_type": "display_data"
    }
   ],
   "source": [
    "result = pd.DataFrame(G.data['winning']).cumsum(axis = 0)\n",
    "result.columns = names\n",
    "fig, ax = plt.subplots()\n",
    "ax.set_prop_cycle(color = sns.color_palette(\"tab20\"))\n",
    "result.plot(ax = ax, figsize = (12,6))\n",
    "result"
   ]
  },
  {
   "cell_type": "code",
   "execution_count": 18,
   "metadata": {
    "id": "23S-BkCiNBI8"
   },
   "outputs": [
    {
     "data": {
      "text/plain": [
       "'Random1'"
      ]
     },
     "metadata": {},
     "output_type": "display_data"
    },
    {
     "data": {
      "text/plain": [
       "array([0.63130683, 0.89984933, 0.613249  , 0.76447006, 0.76753184,\n",
       "       0.84070678, 0.63042391, 0.        ])"
      ]
     },
     "metadata": {},
     "output_type": "display_data"
    },
    {
     "name": "stdout",
     "output_type": "stream",
     "text": [
      "\n"
     ]
    },
    {
     "data": {
      "text/plain": [
       "'Random2'"
      ]
     },
     "metadata": {},
     "output_type": "display_data"
    },
    {
     "data": {
      "text/plain": [
       "array([0.70331266, 0.7372926 , 0.94234231, 0.6162001 , 0.59459154,\n",
       "       0.56253236, 0.70354415, 0.        ])"
      ]
     },
     "metadata": {},
     "output_type": "display_data"
    },
    {
     "name": "stdout",
     "output_type": "stream",
     "text": [
      "\n"
     ]
    },
    {
     "data": {
      "text/plain": [
       "'Random3'"
      ]
     },
     "metadata": {},
     "output_type": "display_data"
    },
    {
     "data": {
      "text/plain": [
       "array([0.56564605, 0.66687863, 0.96915728, 0.85705592, 0.77962521,\n",
       "       0.63872847, 0.72133999, 0.        ])"
      ]
     },
     "metadata": {},
     "output_type": "display_data"
    },
    {
     "name": "stdout",
     "output_type": "stream",
     "text": [
      "\n"
     ]
    },
    {
     "data": {
      "text/plain": [
       "'Const0.6'"
      ]
     },
     "metadata": {},
     "output_type": "display_data"
    },
    {
     "data": {
      "text/plain": [
       "array([0.6, 0.6, 0.6, 0.6, 0.6, 0.6, 0.6, 0. ])"
      ]
     },
     "metadata": {},
     "output_type": "display_data"
    },
    {
     "name": "stdout",
     "output_type": "stream",
     "text": [
      "\n"
     ]
    },
    {
     "data": {
      "text/plain": [
       "'Const0.7'"
      ]
     },
     "metadata": {},
     "output_type": "display_data"
    },
    {
     "data": {
      "text/plain": [
       "array([0.7, 0.7, 0.7, 0.7, 0.7, 0.7, 0.7, 0. ])"
      ]
     },
     "metadata": {},
     "output_type": "display_data"
    },
    {
     "name": "stdout",
     "output_type": "stream",
     "text": [
      "\n"
     ]
    },
    {
     "data": {
      "text/plain": [
       "'Const0.8'"
      ]
     },
     "metadata": {},
     "output_type": "display_data"
    },
    {
     "data": {
      "text/plain": [
       "array([0.8, 0.8, 0.8, 0.8, 0.8, 0.8, 0.8, 0. ])"
      ]
     },
     "metadata": {},
     "output_type": "display_data"
    },
    {
     "name": "stdout",
     "output_type": "stream",
     "text": [
      "\n"
     ]
    },
    {
     "data": {
      "text/plain": [
       "'Const0.9'"
      ]
     },
     "metadata": {},
     "output_type": "display_data"
    },
    {
     "data": {
      "text/plain": [
       "array([0.9, 0.9, 0.9, 0.9, 0.9, 0.9, 0.9, 0. ])"
      ]
     },
     "metadata": {},
     "output_type": "display_data"
    },
    {
     "name": "stdout",
     "output_type": "stream",
     "text": [
      "\n"
     ]
    },
    {
     "data": {
      "text/plain": [
       "'NE1'"
      ]
     },
     "metadata": {},
     "output_type": "display_data"
    },
    {
     "data": {
      "text/plain": [
       "array([0.84990029, 0.83419051, 0.81405923, 0.78711137, 0.74867099,\n",
       "       0.68791554, 0.57055653, 0.        ])"
      ]
     },
     "metadata": {},
     "output_type": "display_data"
    },
    {
     "name": "stdout",
     "output_type": "stream",
     "text": [
      "\n"
     ]
    }
   ],
   "source": [
    "for i,P in enumerate(G.players):\n",
    "    display(f'{names[i]}')\n",
    "    display(P.threshold)\n",
    "    print('')"
   ]
  }
 ],
 "metadata": {
  "colab": {
   "collapsed_sections": [],
   "name": "ContinuousBlackjack.ipynb",
   "provenance": []
  },
  "kernelspec": {
   "display_name": "basic:Python",
   "language": "python",
   "name": "conda-env-basic-py"
  },
  "language_info": {
   "codemirror_mode": {
    "name": "ipython",
    "version": 3
   },
   "file_extension": ".py",
   "mimetype": "text/x-python",
   "name": "python",
   "nbconvert_exporter": "python",
   "pygments_lexer": "ipython3",
   "version": "3.10.4"
  }
 },
 "nbformat": 4,
 "nbformat_minor": 4
}
